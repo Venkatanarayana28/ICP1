{
  "nbformat": 4,
  "nbformat_minor": 0,
  "metadata": {
    "colab": {
      "provenance": [],
      "authorship_tag": "ABX9TyOa+ApPFR3q+nUyKasnzFIF",
      "include_colab_link": true
    },
    "kernelspec": {
      "name": "python3",
      "display_name": "Python 3"
    },
    "language_info": {
      "name": "python"
    }
  },
  "cells": [
    {
      "cell_type": "markdown",
      "metadata": {
        "id": "view-in-github",
        "colab_type": "text"
      },
      "source": [
        "<a href=\"https://colab.research.google.com/github/Venkatanarayana28/ICP1/blob/main/ICP1.ipynb\" target=\"_parent\"><img src=\"https://colab.research.google.com/assets/colab-badge.svg\" alt=\"Open In Colab\"/></a>"
      ]
    },
    {
      "cell_type": "code",
      "execution_count": null,
      "metadata": {
        "id": "X1KNg0CqF5pz"
      },
      "outputs": [],
      "source": [
        "import random\n",
        "data = input(\"enter data : \")\n",
        "\n",
        "split =  random.randrange(2, len(data)-2)\n",
        "\n",
        "data = data.replace(data[split:],\"\")\n",
        "data = data[::-1]\n",
        "print(data)\n",
        "\n",
        "num1 = int(input(\"enter number 1 :\"))\n",
        "num2 = int(input(\"enter number 2 :\"))\n",
        "\n",
        "print(\"\\n addition : \",(num1+num2))\n",
        "print(\"substraction : \",(num1-num2))\n",
        "print(\"divison : \",(num1/num2))\n",
        "print(\"multiplication : \",(num1*num2))\n",
        "\n",
        "inputValue = input(\"enter string :\")\n",
        "\n",
        "inputValue = inputValue.replace(\"python\",\"pythons\")\n",
        "\n",
        "print(inputValue)\n",
        "\n",
        "marks = int(input(\"Enter Students score : \"))\n",
        "\n",
        "if(marks<=100 and marks>=90):\n",
        "    print(\"Grade = A\")\n",
        "elif(marks<=89 and marks>=80):\n",
        "     print(\"Grade = B\")\n",
        "elif(marks<=79 and marks>=70):\n",
        "     print(\"Grade = C\")\n",
        "elif(marks<=69 and marks>=60):\n",
        "     print(\"Grade = D\")\n",
        "elif(marks<=59 and marks>=0):\n",
        "     print(\"Grade = F\")"
      ]
    }
  ]
}